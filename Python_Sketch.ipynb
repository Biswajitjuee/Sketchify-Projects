{
  "nbformat": 4,
  "nbformat_minor": 0,
  "metadata": {
    "colab": {
      "name": "Copy of Python Sketch",
      "provenance": []
    },
    "kernelspec": {
      "name": "python3",
      "display_name": "Python 3"
    }
  },
  "cells": [
    {
      "cell_type": "code",
      "metadata": {
        "colab": {
          "base_uri": "https://localhost:8080/"
        },
        "id": "nzk6dpB0ZC6x",
        "outputId": "44d836c7-2176-465f-d9d4-d61b38f36654"
      },
      "source": [
        "!pip install sketchify"
      ],
      "execution_count": null,
      "outputs": [
        {
          "output_type": "stream",
          "text": [
            "Collecting sketchify\n",
            "  Downloading https://files.pythonhosted.org/packages/49/ec/b6df27e365e392e620dd095fb3e5ad91eb928cd1f49152478143c91a6ba6/sketchify-0.0.8-py3-none-any.whl\n",
            "Requirement already satisfied: opencv-contrib-python in /usr/local/lib/python3.6/dist-packages (from sketchify) (4.1.2.30)\n",
            "Requirement already satisfied: numpy>=1.11.3 in /usr/local/lib/python3.6/dist-packages (from opencv-contrib-python->sketchify) (1.19.4)\n",
            "Installing collected packages: sketchify\n",
            "Successfully installed sketchify-0.0.8\n"
          ],
          "name": "stdout"
        }
      ]
    },
    {
      "cell_type": "code",
      "metadata": {
        "colab": {
          "base_uri": "https://localhost:8080/"
        },
        "id": "Vrn8OVyXffIt",
        "outputId": "ca3aedb0-ab3d-4812-bed7-d70fe5662f7f"
      },
      "source": [
        "!ls"
      ],
      "execution_count": null,
      "outputs": [
        {
          "output_type": "stream",
          "text": [
            "Gopal.jpg  sample_data\n"
          ],
          "name": "stdout"
        }
      ]
    },
    {
      "cell_type": "code",
      "metadata": {
        "id": "deLaGyr1Z8hv"
      },
      "source": [
        "img_dir='/content/Gopal.jpg'\r\n",
        "save_dir='/content/sample_data'"
      ],
      "execution_count": null,
      "outputs": []
    },
    {
      "cell_type": "code",
      "metadata": {
        "id": "Au_5j_N_ZIEW"
      },
      "source": [
        "from sketchify import sketch\r\n",
        "img = sketch.normalsketch(img_dir, save_dir, 'gopalsketch')"
      ],
      "execution_count": null,
      "outputs": []
    },
    {
      "cell_type": "code",
      "metadata": {
        "id": "Idxgr72KZ3Gm"
      },
      "source": [
        ""
      ],
      "execution_count": null,
      "outputs": []
    }
  ]
}